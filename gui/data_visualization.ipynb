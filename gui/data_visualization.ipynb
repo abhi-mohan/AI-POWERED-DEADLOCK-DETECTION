import pandas as pd
import matplotlib.pyplot as plt
import seaborn as sns

# Load the dataset
df = pd.read_csv("deadlock_dataset.csv")

# Plot the data distribution
plt.figure(figsize=(8, 5))
sns.countplot(x="Deadlock", data=df, palette="coolwarm")
plt.title("Deadlock Occurrence")
plt.show()

# Show correlation heatmap
plt.figure(figsize=(6, 4))
sns.heatmap(df.corr(), annot=True, cmap="coolwarm", fmt=".2f")
plt.title("Feature Correlation")
plt.show()
